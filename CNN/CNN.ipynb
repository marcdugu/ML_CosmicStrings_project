{
 "cells": [
  {
   "cell_type": "code",
   "execution_count": 1,
   "metadata": {},
   "outputs": [],
   "source": [
    "#import the packages and \n",
    "\n",
    "import os\n",
    "import CNN \n",
    "import numpy as np\n",
    "import torch\n",
    "import torch.nn as nn\n",
    "import torch.nn.functional as F\n",
    "from torch.utils.data import Dataset, DataLoader\n",
    "import matplotlib.pyplot as plt"
   ]
  },
  {
   "cell_type": "code",
   "execution_count": 2,
   "metadata": {},
   "outputs": [],
   "source": [
    "num_files_load = 10\n",
    "num_epochs = 50 \n",
    "batch_size = 32\n",
    "learning_rate = 0.0001\n",
    "weight_decay = 1e-4\n",
    "\n",
    "patience = 3\n",
    "min_delta = 0\n",
    "\n",
    "device = torch.device('cuda' if torch.cuda.is_available() else 'cpu')"
   ]
  },
  {
   "cell_type": "code",
   "execution_count": 3,
   "metadata": {},
   "outputs": [],
   "source": [
    "#Initialize the Dataset\n",
    "root_dir = r'C:\\Users\\marcd\\Desktop\\Master\\Courses\\Machine_Learning\\Project\\data\\CostmiStrings\\mock_data'\n",
    "root_dir = r'/Users/boribbens/Documents/Universiteit_Utrecht/EP_Master/Semester_1/Computational_aspects_of_Machine_Learning/ML_Project/Datafolder/mock_data'\n",
    "dataset = CNN.signal_dataset(root_dir=root_dir, num_files_load=num_files_load) # shape(10000,2,3,65536)-->(file, signal/label, telescope, time)\n"
   ]
  },
  {
   "cell_type": "code",
   "execution_count": null,
   "metadata": {},
   "outputs": [],
   "source": [
    "#Split into Train/Test\n",
    "\n",
    "train_size = 0.7\n",
    "validation_size = 0.2\n",
    "test_size = 1 - (train_size + validation_size)\n",
    "\n",
    "train_dataset, validation_dataset, test_dataset = torch.utils.data.random_split(dataset, [train_size, validation_size, test_size])\n"
   ]
  },
  {
   "cell_type": "code",
   "execution_count": null,
   "metadata": {},
   "outputs": [],
   "source": [
    "#Create DataLoader\n",
    "train_loader = DataLoader(train_dataset, batch_size=batch_size, shuffle=True)\n",
    "validation_loader = DataLoader(validation_dataset, batch_size = batch_size, shuffle=False)\n",
    "test_loader = DataLoader(test_dataset, batch_size=batch_size, shuffle=False)"
   ]
  },
  {
   "cell_type": "code",
   "execution_count": 6,
   "metadata": {},
   "outputs": [
    {
     "name": "stdout",
     "output_type": "stream",
     "text": [
      "Input shape: torch.Size([1, 3, 65536])\n",
      "Conv1: torch.Size([1, 16, 65532])\n",
      "Pool1: torch.Size([1, 16, 32766])\n",
      "Conv2: torch.Size([1, 32, 16382])\n",
      "Pool2: torch.Size([1, 32, 8191])\n",
      "Conv3: torch.Size([1, 64, 4095])\n",
      "Pool3: torch.Size([1, 64, 2047])\n",
      "Conv4: torch.Size([1, 128, 1023])\n",
      "Pool4: torch.Size([1, 128, 511])\n",
      "Conv5: torch.Size([1, 256, 255])\n",
      "Pool5: torch.Size([1, 256, 127])\n",
      "Conv6: torch.Size([1, 256, 64])\n",
      "Pool6: torch.Size([1, 256, 32])\n",
      "Flatten: torch.Size([1, 8192])\n"
     ]
    }
   ],
   "source": [
    "# Dummy CNN\n",
    "\n",
    "# Define the dummy CNN model\n",
    "dummy_model = CNN.DummyCNN()\n",
    "# Move the model to the appropriate device\n",
    "dummy_model = dummy_model.to(device)\n",
    "# Create a dummy input array (batch_size=1, channels=3, length=65536)\n",
    "dummy_input = torch.randn(1, 3, 65536).to(device)\n",
    "# Pass the dummy input through the model\n",
    "output = dummy_model(dummy_input)"
   ]
  },
  {
   "cell_type": "code",
   "execution_count": 7,
   "metadata": {},
   "outputs": [
    {
     "name": "stdout",
     "output_type": "stream",
     "text": [
      "Epoch [1/50], Train Loss: 0.6946, Val Loss: 0.6878, Val Accuracy: 0.5000\n",
      "Epoch [2/50], Train Loss: 0.6735, Val Loss: 0.6872, Val Accuracy: 0.5000\n",
      "Epoch [3/50], Train Loss: 0.6548, Val Loss: 0.6831, Val Accuracy: 0.7500\n",
      "Epoch [4/50], Train Loss: 0.6350, Val Loss: 0.6795, Val Accuracy: 0.7500\n",
      "Epoch [5/50], Train Loss: 0.6141, Val Loss: 0.6756, Val Accuracy: 0.7500\n",
      "Epoch [6/50], Train Loss: 0.5914, Val Loss: 0.6718, Val Accuracy: 0.7500\n",
      "Epoch [7/50], Train Loss: 0.5671, Val Loss: 0.6677, Val Accuracy: 0.7500\n",
      "Epoch [8/50], Train Loss: 0.5408, Val Loss: 0.6634, Val Accuracy: 0.7500\n",
      "Epoch [9/50], Train Loss: 0.5123, Val Loss: 0.6590, Val Accuracy: 0.7500\n",
      "Epoch [10/50], Train Loss: 0.4822, Val Loss: 0.6554, Val Accuracy: 0.7500\n",
      "Epoch [11/50], Train Loss: 0.4497, Val Loss: 0.6531, Val Accuracy: 0.7500\n",
      "Epoch [12/50], Train Loss: 0.4163, Val Loss: 0.6484, Val Accuracy: 0.7500\n",
      "Epoch [13/50], Train Loss: 0.3814, Val Loss: 0.6423, Val Accuracy: 0.7500\n",
      "Epoch [14/50], Train Loss: 0.3460, Val Loss: 0.6361, Val Accuracy: 0.7500\n",
      "Epoch [15/50], Train Loss: 0.3097, Val Loss: 0.6288, Val Accuracy: 0.7500\n",
      "Epoch [16/50], Train Loss: 0.2738, Val Loss: 0.6211, Val Accuracy: 0.7500\n",
      "Epoch [17/50], Train Loss: 0.2386, Val Loss: 0.6129, Val Accuracy: 0.7500\n",
      "Epoch [18/50], Train Loss: 0.2048, Val Loss: 0.6032, Val Accuracy: 0.7500\n",
      "Epoch [19/50], Train Loss: 0.1725, Val Loss: 0.5971, Val Accuracy: 0.7500\n",
      "Epoch [20/50], Train Loss: 0.1431, Val Loss: 0.5890, Val Accuracy: 0.7500\n",
      "Epoch [21/50], Train Loss: 0.1170, Val Loss: 0.5903, Val Accuracy: 0.7500\n",
      "Epoch [22/50], Train Loss: 0.0947, Val Loss: 0.5803, Val Accuracy: 0.7500\n",
      "Epoch [23/50], Train Loss: 0.0767, Val Loss: 0.5930, Val Accuracy: 0.7500\n",
      "Epoch [24/50], Train Loss: 0.0614, Val Loss: 0.5677, Val Accuracy: 0.7500\n",
      "Epoch [25/50], Train Loss: 0.0469, Val Loss: 0.5617, Val Accuracy: 0.7500\n",
      "Epoch [26/50], Train Loss: 0.0373, Val Loss: 0.5708, Val Accuracy: 0.7500\n",
      "Epoch [27/50], Train Loss: 0.0289, Val Loss: 0.5638, Val Accuracy: 0.7500\n",
      "Epoch [28/50], Train Loss: 0.0223, Val Loss: 0.5424, Val Accuracy: 0.7500\n",
      "Epoch [29/50], Train Loss: 0.0174, Val Loss: 0.5365, Val Accuracy: 0.7500\n",
      "Epoch [30/50], Train Loss: 0.0137, Val Loss: 0.5417, Val Accuracy: 0.7500\n",
      "Epoch [31/50], Train Loss: 0.0104, Val Loss: 0.5596, Val Accuracy: 0.7500\n",
      "Epoch [32/50], Train Loss: 0.0085, Val Loss: 0.5505, Val Accuracy: 0.7500\n",
      "Epoch [33/50], Train Loss: 0.0066, Val Loss: 0.5283, Val Accuracy: 0.7500\n",
      "Epoch [34/50], Train Loss: 0.0052, Val Loss: 0.5181, Val Accuracy: 0.7500\n",
      "Epoch [35/50], Train Loss: 0.0043, Val Loss: 0.5158, Val Accuracy: 0.7500\n",
      "Epoch [36/50], Train Loss: 0.0035, Val Loss: 0.5213, Val Accuracy: 0.7500\n",
      "Epoch [37/50], Train Loss: 0.0028, Val Loss: 0.5383, Val Accuracy: 0.7500\n",
      "Epoch [38/50], Train Loss: 0.0023, Val Loss: 0.5570, Val Accuracy: 0.7500\n",
      "Epoch [39/50], Train Loss: 0.0020, Val Loss: 0.5640, Val Accuracy: 0.7500\n",
      "Epoch [40/50], Train Loss: 0.0017, Val Loss: 0.5562, Val Accuracy: 0.7500\n",
      "Epoch [41/50], Train Loss: 0.0014, Val Loss: 0.5406, Val Accuracy: 0.7500\n",
      "Epoch [42/50], Train Loss: 0.0012, Val Loss: 0.5257, Val Accuracy: 0.7500\n",
      "Epoch [43/50], Train Loss: 0.0010, Val Loss: 0.5160, Val Accuracy: 0.7500\n",
      "Epoch [44/50], Train Loss: 0.0009, Val Loss: 0.5115, Val Accuracy: 0.7500\n",
      "Epoch [45/50], Train Loss: 0.0008, Val Loss: 0.5116, Val Accuracy: 0.7500\n",
      "Epoch [46/50], Train Loss: 0.0007, Val Loss: 0.5159, Val Accuracy: 0.7500\n",
      "Epoch [47/50], Train Loss: 0.0006, Val Loss: 0.5246, Val Accuracy: 0.7500\n",
      "Epoch [48/50], Train Loss: 0.0006, Val Loss: 0.5369, Val Accuracy: 0.7500\n",
      "Epoch [49/50], Train Loss: 0.0005, Val Loss: 0.5510, Val Accuracy: 0.7500\n",
      "Epoch [50/50], Train Loss: 0.0005, Val Loss: 0.5638, Val Accuracy: 0.7500\n"
     ]
    }
   ],
   "source": [
    "#Run the NN:\n",
    "\n",
    "CNN.RunNeuralNetwork(train_loader, test_loader, learning_rate, weight_decay, num_epochs, patience, min_delta)"
   ]
  }
 ],
 "metadata": {
  "kernelspec": {
   "display_name": "base",
   "language": "python",
   "name": "python3"
  },
  "language_info": {
   "codemirror_mode": {
    "name": "ipython",
    "version": 3
   },
   "file_extension": ".py",
   "mimetype": "text/x-python",
   "name": "python",
   "nbconvert_exporter": "python",
   "pygments_lexer": "ipython3",
   "version": "3.11.5"
  }
 },
 "nbformat": 4,
 "nbformat_minor": 2
}
